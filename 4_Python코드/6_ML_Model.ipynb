{
  "nbformat": 4,
  "nbformat_minor": 0,
  "metadata": {
    "colab": {
      "provenance": []
    },
    "kernelspec": {
      "name": "python3",
      "display_name": "Python 3"
    },
    "language_info": {
      "name": "python"
    }
  },
  "cells": [
    {
      "cell_type": "markdown",
      "source": [
        "# **데이터 준비**"
      ],
      "metadata": {
        "id": "Jd3DMXiyCz5Z"
      }
    },
    {
      "cell_type": "code",
      "source": [
        "# 작업 경로 설정\n",
        "import os\n",
        "os.chdir('/content/drive/MyDrive/DataDreamworks/DataAnalysis_Marketing/clv_commerce')\n",
        "#cd /content/drive/MyDrive/DataDreamworks/DataAnalysis_Marketing/clv_commerce"
      ],
      "metadata": {
        "id": "kIw-PL4zC1PB"
      },
      "execution_count": 1,
      "outputs": []
    },
    {
      "cell_type": "code",
      "source": [
        "# 필요한 라이브러리 불러오기\n",
        "import pandas as pd\n",
        "from sklearn.model_selection import train_test_split\n",
        "from sklearn.preprocessing import StandardScaler\n",
        "from sklearn.metrics import mean_squared_error, r2_score\n",
        "from sklearn.linear_model import LinearRegression\n",
        "from sklearn.ensemble import RandomForestRegressor, GradientBoostingRegressor\n",
        "import xgboost as xgb\n",
        "\n",
        "# raw data 불러오기\n",
        "\n",
        "df = pd.read_excel('clv_table_2014.xlsx')\n",
        "df.loc[:3]"
      ],
      "metadata": {
        "colab": {
          "base_uri": "https://localhost:8080/",
          "height": 174
        },
        "id": "R8SR_FqXC6UC",
        "outputId": "d0c99ee7-5bbf-469b-a983-2f6e78d8c5ff"
      },
      "execution_count": 2,
      "outputs": [
        {
          "output_type": "execute_result",
          "data": {
            "text/plain": [
              "  customer id  purchase_value  purchase_freq  lifespan  customer_clv  \\\n",
              "0    BH-11710          2.5689         0.0038    0.3077         0.003   \n",
              "1    PK-19075          0.3764         0.0013    0.0000         0.000   \n",
              "2    AG-10270          0.0879         0.0025    0.0895         0.000   \n",
              "3    ZD-21925          0.1384         0.0013    0.0000         0.000   \n",
              "\n",
              "  first_order_date second_order_date  first_order_sales  second_order_sales  \n",
              "0       2014-06-09        2014-11-11            3714.30              808.93  \n",
              "1       2014-11-11               NaT             665.88                 NaN  \n",
              "2       2014-05-13        2014-07-23              55.50               99.98  \n",
              "3       2014-08-27               NaT             244.76                 NaN  "
            ],
            "text/html": [
              "\n",
              "  <div id=\"df-5ca8c7a8-36a5-4dc3-b0c9-3e5e4e073e83\" class=\"colab-df-container\">\n",
              "    <div>\n",
              "<style scoped>\n",
              "    .dataframe tbody tr th:only-of-type {\n",
              "        vertical-align: middle;\n",
              "    }\n",
              "\n",
              "    .dataframe tbody tr th {\n",
              "        vertical-align: top;\n",
              "    }\n",
              "\n",
              "    .dataframe thead th {\n",
              "        text-align: right;\n",
              "    }\n",
              "</style>\n",
              "<table border=\"1\" class=\"dataframe\">\n",
              "  <thead>\n",
              "    <tr style=\"text-align: right;\">\n",
              "      <th></th>\n",
              "      <th>customer id</th>\n",
              "      <th>purchase_value</th>\n",
              "      <th>purchase_freq</th>\n",
              "      <th>lifespan</th>\n",
              "      <th>customer_clv</th>\n",
              "      <th>first_order_date</th>\n",
              "      <th>second_order_date</th>\n",
              "      <th>first_order_sales</th>\n",
              "      <th>second_order_sales</th>\n",
              "    </tr>\n",
              "  </thead>\n",
              "  <tbody>\n",
              "    <tr>\n",
              "      <th>0</th>\n",
              "      <td>BH-11710</td>\n",
              "      <td>2.5689</td>\n",
              "      <td>0.0038</td>\n",
              "      <td>0.3077</td>\n",
              "      <td>0.003</td>\n",
              "      <td>2014-06-09</td>\n",
              "      <td>2014-11-11</td>\n",
              "      <td>3714.30</td>\n",
              "      <td>808.93</td>\n",
              "    </tr>\n",
              "    <tr>\n",
              "      <th>1</th>\n",
              "      <td>PK-19075</td>\n",
              "      <td>0.3764</td>\n",
              "      <td>0.0013</td>\n",
              "      <td>0.0000</td>\n",
              "      <td>0.000</td>\n",
              "      <td>2014-11-11</td>\n",
              "      <td>NaT</td>\n",
              "      <td>665.88</td>\n",
              "      <td>NaN</td>\n",
              "    </tr>\n",
              "    <tr>\n",
              "      <th>2</th>\n",
              "      <td>AG-10270</td>\n",
              "      <td>0.0879</td>\n",
              "      <td>0.0025</td>\n",
              "      <td>0.0895</td>\n",
              "      <td>0.000</td>\n",
              "      <td>2014-05-13</td>\n",
              "      <td>2014-07-23</td>\n",
              "      <td>55.50</td>\n",
              "      <td>99.98</td>\n",
              "    </tr>\n",
              "    <tr>\n",
              "      <th>3</th>\n",
              "      <td>ZD-21925</td>\n",
              "      <td>0.1384</td>\n",
              "      <td>0.0013</td>\n",
              "      <td>0.0000</td>\n",
              "      <td>0.000</td>\n",
              "      <td>2014-08-27</td>\n",
              "      <td>NaT</td>\n",
              "      <td>244.76</td>\n",
              "      <td>NaN</td>\n",
              "    </tr>\n",
              "  </tbody>\n",
              "</table>\n",
              "</div>\n",
              "    <div class=\"colab-df-buttons\">\n",
              "\n",
              "  <div class=\"colab-df-container\">\n",
              "    <button class=\"colab-df-convert\" onclick=\"convertToInteractive('df-5ca8c7a8-36a5-4dc3-b0c9-3e5e4e073e83')\"\n",
              "            title=\"Convert this dataframe to an interactive table.\"\n",
              "            style=\"display:none;\">\n",
              "\n",
              "  <svg xmlns=\"http://www.w3.org/2000/svg\" height=\"24px\" viewBox=\"0 -960 960 960\">\n",
              "    <path d=\"M120-120v-720h720v720H120Zm60-500h600v-160H180v160Zm220 220h160v-160H400v160Zm0 220h160v-160H400v160ZM180-400h160v-160H180v160Zm440 0h160v-160H620v160ZM180-180h160v-160H180v160Zm440 0h160v-160H620v160Z\"/>\n",
              "  </svg>\n",
              "    </button>\n",
              "\n",
              "  <style>\n",
              "    .colab-df-container {\n",
              "      display:flex;\n",
              "      gap: 12px;\n",
              "    }\n",
              "\n",
              "    .colab-df-convert {\n",
              "      background-color: #E8F0FE;\n",
              "      border: none;\n",
              "      border-radius: 50%;\n",
              "      cursor: pointer;\n",
              "      display: none;\n",
              "      fill: #1967D2;\n",
              "      height: 32px;\n",
              "      padding: 0 0 0 0;\n",
              "      width: 32px;\n",
              "    }\n",
              "\n",
              "    .colab-df-convert:hover {\n",
              "      background-color: #E2EBFA;\n",
              "      box-shadow: 0px 1px 2px rgba(60, 64, 67, 0.3), 0px 1px 3px 1px rgba(60, 64, 67, 0.15);\n",
              "      fill: #174EA6;\n",
              "    }\n",
              "\n",
              "    .colab-df-buttons div {\n",
              "      margin-bottom: 4px;\n",
              "    }\n",
              "\n",
              "    [theme=dark] .colab-df-convert {\n",
              "      background-color: #3B4455;\n",
              "      fill: #D2E3FC;\n",
              "    }\n",
              "\n",
              "    [theme=dark] .colab-df-convert:hover {\n",
              "      background-color: #434B5C;\n",
              "      box-shadow: 0px 1px 3px 1px rgba(0, 0, 0, 0.15);\n",
              "      filter: drop-shadow(0px 1px 2px rgba(0, 0, 0, 0.3));\n",
              "      fill: #FFFFFF;\n",
              "    }\n",
              "  </style>\n",
              "\n",
              "    <script>\n",
              "      const buttonEl =\n",
              "        document.querySelector('#df-5ca8c7a8-36a5-4dc3-b0c9-3e5e4e073e83 button.colab-df-convert');\n",
              "      buttonEl.style.display =\n",
              "        google.colab.kernel.accessAllowed ? 'block' : 'none';\n",
              "\n",
              "      async function convertToInteractive(key) {\n",
              "        const element = document.querySelector('#df-5ca8c7a8-36a5-4dc3-b0c9-3e5e4e073e83');\n",
              "        const dataTable =\n",
              "          await google.colab.kernel.invokeFunction('convertToInteractive',\n",
              "                                                    [key], {});\n",
              "        if (!dataTable) return;\n",
              "\n",
              "        const docLinkHtml = 'Like what you see? Visit the ' +\n",
              "          '<a target=\"_blank\" href=https://colab.research.google.com/notebooks/data_table.ipynb>data table notebook</a>'\n",
              "          + ' to learn more about interactive tables.';\n",
              "        element.innerHTML = '';\n",
              "        dataTable['output_type'] = 'display_data';\n",
              "        await google.colab.output.renderOutput(dataTable, element);\n",
              "        const docLink = document.createElement('div');\n",
              "        docLink.innerHTML = docLinkHtml;\n",
              "        element.appendChild(docLink);\n",
              "      }\n",
              "    </script>\n",
              "  </div>\n",
              "\n",
              "\n",
              "<div id=\"df-eaff9d3b-3a82-48b4-b7c6-ec5577dace76\">\n",
              "  <button class=\"colab-df-quickchart\" onclick=\"quickchart('df-eaff9d3b-3a82-48b4-b7c6-ec5577dace76')\"\n",
              "            title=\"Suggest charts\"\n",
              "            style=\"display:none;\">\n",
              "\n",
              "<svg xmlns=\"http://www.w3.org/2000/svg\" height=\"24px\"viewBox=\"0 0 24 24\"\n",
              "     width=\"24px\">\n",
              "    <g>\n",
              "        <path d=\"M19 3H5c-1.1 0-2 .9-2 2v14c0 1.1.9 2 2 2h14c1.1 0 2-.9 2-2V5c0-1.1-.9-2-2-2zM9 17H7v-7h2v7zm4 0h-2V7h2v10zm4 0h-2v-4h2v4z\"/>\n",
              "    </g>\n",
              "</svg>\n",
              "  </button>\n",
              "\n",
              "<style>\n",
              "  .colab-df-quickchart {\n",
              "      --bg-color: #E8F0FE;\n",
              "      --fill-color: #1967D2;\n",
              "      --hover-bg-color: #E2EBFA;\n",
              "      --hover-fill-color: #174EA6;\n",
              "      --disabled-fill-color: #AAA;\n",
              "      --disabled-bg-color: #DDD;\n",
              "  }\n",
              "\n",
              "  [theme=dark] .colab-df-quickchart {\n",
              "      --bg-color: #3B4455;\n",
              "      --fill-color: #D2E3FC;\n",
              "      --hover-bg-color: #434B5C;\n",
              "      --hover-fill-color: #FFFFFF;\n",
              "      --disabled-bg-color: #3B4455;\n",
              "      --disabled-fill-color: #666;\n",
              "  }\n",
              "\n",
              "  .colab-df-quickchart {\n",
              "    background-color: var(--bg-color);\n",
              "    border: none;\n",
              "    border-radius: 50%;\n",
              "    cursor: pointer;\n",
              "    display: none;\n",
              "    fill: var(--fill-color);\n",
              "    height: 32px;\n",
              "    padding: 0;\n",
              "    width: 32px;\n",
              "  }\n",
              "\n",
              "  .colab-df-quickchart:hover {\n",
              "    background-color: var(--hover-bg-color);\n",
              "    box-shadow: 0 1px 2px rgba(60, 64, 67, 0.3), 0 1px 3px 1px rgba(60, 64, 67, 0.15);\n",
              "    fill: var(--button-hover-fill-color);\n",
              "  }\n",
              "\n",
              "  .colab-df-quickchart-complete:disabled,\n",
              "  .colab-df-quickchart-complete:disabled:hover {\n",
              "    background-color: var(--disabled-bg-color);\n",
              "    fill: var(--disabled-fill-color);\n",
              "    box-shadow: none;\n",
              "  }\n",
              "\n",
              "  .colab-df-spinner {\n",
              "    border: 2px solid var(--fill-color);\n",
              "    border-color: transparent;\n",
              "    border-bottom-color: var(--fill-color);\n",
              "    animation:\n",
              "      spin 1s steps(1) infinite;\n",
              "  }\n",
              "\n",
              "  @keyframes spin {\n",
              "    0% {\n",
              "      border-color: transparent;\n",
              "      border-bottom-color: var(--fill-color);\n",
              "      border-left-color: var(--fill-color);\n",
              "    }\n",
              "    20% {\n",
              "      border-color: transparent;\n",
              "      border-left-color: var(--fill-color);\n",
              "      border-top-color: var(--fill-color);\n",
              "    }\n",
              "    30% {\n",
              "      border-color: transparent;\n",
              "      border-left-color: var(--fill-color);\n",
              "      border-top-color: var(--fill-color);\n",
              "      border-right-color: var(--fill-color);\n",
              "    }\n",
              "    40% {\n",
              "      border-color: transparent;\n",
              "      border-right-color: var(--fill-color);\n",
              "      border-top-color: var(--fill-color);\n",
              "    }\n",
              "    60% {\n",
              "      border-color: transparent;\n",
              "      border-right-color: var(--fill-color);\n",
              "    }\n",
              "    80% {\n",
              "      border-color: transparent;\n",
              "      border-right-color: var(--fill-color);\n",
              "      border-bottom-color: var(--fill-color);\n",
              "    }\n",
              "    90% {\n",
              "      border-color: transparent;\n",
              "      border-bottom-color: var(--fill-color);\n",
              "    }\n",
              "  }\n",
              "</style>\n",
              "\n",
              "  <script>\n",
              "    async function quickchart(key) {\n",
              "      const quickchartButtonEl =\n",
              "        document.querySelector('#' + key + ' button');\n",
              "      quickchartButtonEl.disabled = true;  // To prevent multiple clicks.\n",
              "      quickchartButtonEl.classList.add('colab-df-spinner');\n",
              "      try {\n",
              "        const charts = await google.colab.kernel.invokeFunction(\n",
              "            'suggestCharts', [key], {});\n",
              "      } catch (error) {\n",
              "        console.error('Error during call to suggestCharts:', error);\n",
              "      }\n",
              "      quickchartButtonEl.classList.remove('colab-df-spinner');\n",
              "      quickchartButtonEl.classList.add('colab-df-quickchart-complete');\n",
              "    }\n",
              "    (() => {\n",
              "      let quickchartButtonEl =\n",
              "        document.querySelector('#df-eaff9d3b-3a82-48b4-b7c6-ec5577dace76 button');\n",
              "      quickchartButtonEl.style.display =\n",
              "        google.colab.kernel.accessAllowed ? 'block' : 'none';\n",
              "    })();\n",
              "  </script>\n",
              "</div>\n",
              "\n",
              "    </div>\n",
              "  </div>\n"
            ],
            "application/vnd.google.colaboratory.intrinsic+json": {
              "type": "dataframe",
              "summary": "{\n  \"name\": \"df\",\n  \"rows\": 4,\n  \"fields\": [\n    {\n      \"column\": \"customer id\",\n      \"properties\": {\n        \"dtype\": \"string\",\n        \"num_unique_values\": 4,\n        \"samples\": [\n          \"PK-19075\",\n          \"ZD-21925\",\n          \"BH-11710\"\n        ],\n        \"semantic_type\": \"\",\n        \"description\": \"\"\n      }\n    },\n    {\n      \"column\": \"purchase_value\",\n      \"properties\": {\n        \"dtype\": \"number\",\n        \"std\": 1.1906641703967862,\n        \"min\": 0.0879,\n        \"max\": 2.5689,\n        \"num_unique_values\": 4,\n        \"samples\": [\n          0.3764,\n          0.1384,\n          2.5689\n        ],\n        \"semantic_type\": \"\",\n        \"description\": \"\"\n      }\n    },\n    {\n      \"column\": \"purchase_freq\",\n      \"properties\": {\n        \"dtype\": \"number\",\n        \"std\": 0.0011926860441876564,\n        \"min\": 0.0013,\n        \"max\": 0.0038,\n        \"num_unique_values\": 3,\n        \"samples\": [\n          0.0038,\n          0.0013,\n          0.0025\n        ],\n        \"semantic_type\": \"\",\n        \"description\": \"\"\n      }\n    },\n    {\n      \"column\": \"lifespan\",\n      \"properties\": {\n        \"dtype\": \"number\",\n        \"std\": 0.14519823231247225,\n        \"min\": 0.0,\n        \"max\": 0.3077,\n        \"num_unique_values\": 3,\n        \"samples\": [\n          0.3077,\n          0.0,\n          0.0895\n        ],\n        \"semantic_type\": \"\",\n        \"description\": \"\"\n      }\n    },\n    {\n      \"column\": \"customer_clv\",\n      \"properties\": {\n        \"dtype\": \"number\",\n        \"std\": 0.0015000000000000002,\n        \"min\": 0.0,\n        \"max\": 0.003,\n        \"num_unique_values\": 2,\n        \"samples\": [\n          0.0,\n          0.003\n        ],\n        \"semantic_type\": \"\",\n        \"description\": \"\"\n      }\n    },\n    {\n      \"column\": \"first_order_date\",\n      \"properties\": {\n        \"dtype\": \"date\",\n        \"min\": \"2014-05-13 00:00:00\",\n        \"max\": \"2014-11-11 00:00:00\",\n        \"num_unique_values\": 4,\n        \"samples\": [\n          \"2014-11-11 00:00:00\",\n          \"2014-08-27 00:00:00\"\n        ],\n        \"semantic_type\": \"\",\n        \"description\": \"\"\n      }\n    },\n    {\n      \"column\": \"second_order_date\",\n      \"properties\": {\n        \"dtype\": \"date\",\n        \"min\": \"2014-07-23 00:00:00\",\n        \"max\": \"2014-11-11 00:00:00\",\n        \"num_unique_values\": 2,\n        \"samples\": [\n          \"2014-07-23 00:00:00\",\n          \"2014-11-11 00:00:00\"\n        ],\n        \"semantic_type\": \"\",\n        \"description\": \"\"\n      }\n    },\n    {\n      \"column\": \"first_order_sales\",\n      \"properties\": {\n        \"dtype\": \"number\",\n        \"std\": 1715.2044313142385,\n        \"min\": 55.5,\n        \"max\": 3714.3,\n        \"num_unique_values\": 4,\n        \"samples\": [\n          665.88,\n          244.76\n        ],\n        \"semantic_type\": \"\",\n        \"description\": \"\"\n      }\n    },\n    {\n      \"column\": \"second_order_sales\",\n      \"properties\": {\n        \"dtype\": \"number\",\n        \"std\": 501.30335252220283,\n        \"min\": 99.98,\n        \"max\": 808.93,\n        \"num_unique_values\": 2,\n        \"samples\": [\n          99.98,\n          808.93\n        ],\n        \"semantic_type\": \"\",\n        \"description\": \"\"\n      }\n    }\n  ]\n}"
            }
          },
          "metadata": {},
          "execution_count": 2
        }
      ]
    },
    {
      "cell_type": "code",
      "source": [
        "# 모든 고객수\n",
        "print(f'2014년 상반기에 주문한 고객수: {len(df)} 명')\n",
        "\n",
        "# 한 번만 주문한 고객 정보 제거하기\n",
        "df = df[~df['second_order_date'].isna()]\n",
        "\n",
        "print(f'2014년 상반기에 2번 이상 주문한 고객수: {len(df)} 명')"
      ],
      "metadata": {
        "colab": {
          "base_uri": "https://localhost:8080/"
        },
        "id": "9oj2nKHADJrZ",
        "outputId": "1c70a173-caab-4c24-d75f-99cd0bf5faaa"
      },
      "execution_count": 3,
      "outputs": [
        {
          "output_type": "stream",
          "name": "stdout",
          "text": [
            "2014년 상반기에 주문한 고객수: 590 명\n",
            "2014년 상반기에 2번 이상 주문한 고객수: 257 명\n"
          ]
        }
      ]
    },
    {
      "cell_type": "code",
      "source": [
        "len(df)"
      ],
      "metadata": {
        "colab": {
          "base_uri": "https://localhost:8080/"
        },
        "id": "bqOEhGrYDg5v",
        "outputId": "bb81ff35-a29c-4254-c47a-44508588f5be"
      },
      "execution_count": 4,
      "outputs": [
        {
          "output_type": "execute_result",
          "data": {
            "text/plain": [
              "257"
            ]
          },
          "metadata": {},
          "execution_count": 4
        }
      ]
    },
    {
      "cell_type": "code",
      "source": [
        "# df 구성 데이터 확인하기\n",
        "df.info()"
      ],
      "metadata": {
        "colab": {
          "base_uri": "https://localhost:8080/"
        },
        "id": "lLpEvt1SDh7L",
        "outputId": "59cb63b3-2da5-42c5-e382-f71a49cdcf3a"
      },
      "execution_count": 5,
      "outputs": [
        {
          "output_type": "stream",
          "name": "stdout",
          "text": [
            "<class 'pandas.core.frame.DataFrame'>\n",
            "Index: 257 entries, 0 to 586\n",
            "Data columns (total 9 columns):\n",
            " #   Column              Non-Null Count  Dtype         \n",
            "---  ------              --------------  -----         \n",
            " 0   customer id         257 non-null    object        \n",
            " 1   purchase_value      257 non-null    float64       \n",
            " 2   purchase_freq       257 non-null    float64       \n",
            " 3   lifespan            257 non-null    float64       \n",
            " 4   customer_clv        257 non-null    float64       \n",
            " 5   first_order_date    257 non-null    datetime64[ns]\n",
            " 6   second_order_date   257 non-null    datetime64[ns]\n",
            " 7   first_order_sales   257 non-null    float64       \n",
            " 8   second_order_sales  257 non-null    float64       \n",
            "dtypes: datetime64[ns](2), float64(6), object(1)\n",
            "memory usage: 20.1+ KB\n"
          ]
        }
      ]
    },
    {
      "cell_type": "code",
      "source": [
        "# 첫 주문일부터 두번째 주문일까지의 소요기간 구하기\n",
        "df['datediff'] = (df['second_order_date'] - df['first_order_date']).dt.days"
      ],
      "metadata": {
        "id": "xTOZpcu6GWG_"
      },
      "execution_count": 6,
      "outputs": []
    },
    {
      "cell_type": "markdown",
      "source": [
        "# **데이터 분포 확인**"
      ],
      "metadata": {
        "id": "_eTvayr1TctP"
      }
    },
    {
      "cell_type": "code",
      "source": [
        "# 데이터 분포 확인\n",
        "from matplotlib import pyplot as plt\n",
        "import numpy as np\n",
        "\n",
        "plot_columns = ['customer_clv', 'datediff', 'first_order_sales', 'second_order_sales']\n",
        "plot_distribution = df[plot_columns]\n",
        "\n",
        "def plot_check(plot_columns, plot_distribution):\n",
        "\n",
        "  # 분포 시각화\n",
        "  plt.figure(figsize=(16, 4))\n",
        "\n",
        "  for idx, numeric in enumerate(plot_columns) :\n",
        "      col = ['lightblue', 'lightpink', 'orange', 'lightgreen']\n",
        "\n",
        "      plt.subplot(1, 4, idx+1)\n",
        "      plt.hist(plot_distribution[numeric], bins=50, color=col[idx], edgecolor='black')\n",
        "      plt.title(numeric)\n",
        "      plt.tight_layout()\n",
        "\n",
        "  plt.tight_layout()\n",
        "  plt.show()\n",
        "\n",
        "plot_check(plot_columns, plot_distribution)"
      ],
      "metadata": {
        "colab": {
          "base_uri": "https://localhost:8080/",
          "height": 407
        },
        "id": "GY9xTMvW0xpN",
        "outputId": "8381e759-c71a-4c55-c84b-338fdf7cf192"
      },
      "execution_count": 7,
      "outputs": [
        {
          "output_type": "display_data",
          "data": {
            "text/plain": [
              "<Figure size 1600x400 with 4 Axes>"
            ],
            "image/png": "[encoded data removed]"
          },
          "metadata": {}
        }
      ]
    },
    {
      "cell_type": "code",
      "source": [
        "# Log 변환\n",
        "df['Log_customer_clv'] = np.log(df['customer_clv'] + 0.001)\n",
        "df['Log_datediff'] = np.log(df['datediff'] + 1)\n",
        "df['Log_first_order_sales'] = np.log(df['first_order_sales'] + 1)\n",
        "df['Log_second_order_sales'] = np.log(df['second_order_sales'] + 1)"
      ],
      "metadata": {
        "id": "VccDrOMM2eWU"
      },
      "execution_count": 8,
      "outputs": []
    },
    {
      "cell_type": "code",
      "source": [
        "# Log 변환한 데이터 분포 확인\n",
        "plot_columns = ['Log_customer_clv', 'Log_datediff', 'Log_first_order_sales', 'Log_second_order_sales']\n",
        "plot_distribution = df[plot_columns]\n",
        "\n",
        "plot_check(plot_columns, plot_distribution)"
      ],
      "metadata": {
        "colab": {
          "base_uri": "https://localhost:8080/",
          "height": 407
        },
        "id": "VMHciGsd1vJO",
        "outputId": "2dbef6a3-ab55-4200-93df-c5f5147d509a"
      },
      "execution_count": 9,
      "outputs": [
        {
          "output_type": "display_data",
          "data": {
            "text/plain": [
              "<Figure size 1600x400 with 4 Axes>"
            ],
            "image/png": "[encoded data removed]"
          },
          "metadata": {}
        }
      ]
    },
    {
      "cell_type": "code",
      "source": [
        "# StandardScaling 변환하기\n",
        "from sklearn.preprocessing import StandardScaler\n",
        "scaler = StandardScaler()\n",
        "df[['Scaled_customer_clv', 'Scaled_datediff', 'Scaled_first_order_sales', 'Scaled_second_order_sales']] = scaler.fit_transform(df[['customer_clv', 'datediff', 'first_order_sales', 'second_order_sales']])"
      ],
      "metadata": {
        "id": "BHFrdU8q045E"
      },
      "execution_count": 10,
      "outputs": []
    },
    {
      "cell_type": "code",
      "source": [
        "# StandardScaling 변환한 데이터 분포 확인\n",
        "plot_columns = ['Scaled_customer_clv', 'Scaled_datediff', 'Scaled_first_order_sales', 'Scaled_second_order_sales']\n",
        "plot_distribution = df[plot_columns]\n",
        "\n",
        "plot_check(plot_columns, plot_distribution)"
      ],
      "metadata": {
        "colab": {
          "base_uri": "https://localhost:8080/",
          "height": 407
        },
        "id": "octRI09P20Iq",
        "outputId": "1dd6ff64-3019-4503-aef8-58edc4e32514"
      },
      "execution_count": 11,
      "outputs": [
        {
          "output_type": "display_data",
          "data": {
            "text/plain": [
              "<Figure size 1600x400 with 4 Axes>"
            ],
            "image/png": "[encoded data removed]"
          },
          "metadata": {}
        }
      ]
    },
    {
      "cell_type": "code",
      "source": [],
      "metadata": {
        "id": "Bmo7GnJt3kFM"
      },
      "execution_count": null,
      "outputs": []
    },
    {
      "cell_type": "markdown",
      "source": [
        "# **다중공선성 확인**\n",
        "- \"변환하지 않은 값\", \"Log 변환값\", \"Standard Scaling 변환값\" 중에서 \"Log 변환값\"은 VIF 값이 5 이상이므로 다중공선성의 문제가 있음. 즉, 선형회귀 모델은 사용할 수 없음\n",
        "\n",
        "- <mark>**따라서 모델링 할 때, Log 변환값이 아닌 Standard Scaling 변환값을 사용**</mark>"
      ],
      "metadata": {
        "id": "rrcl8GpYTiOU"
      }
    },
    {
      "cell_type": "code",
      "source": [
        "# 변환하지 않은 데이터들로 다중공선성 확인하기\n",
        "from statsmodels.stats.outliers_influence import variance_inflation_factor\n",
        "from sklearn.preprocessing import StandardScaler\n",
        "\n",
        "# 독립변수 설정\n",
        "X = df[['datediff', 'first_order_sales', 'second_order_sales']]\n",
        "\n",
        "# VIF 데이터프레임 생성\n",
        "vif_data = pd.DataFrame()\n",
        "vif_data[\"feature\"] = X.columns\n",
        "\n",
        "# 각 feature에 대한 VIF 계산\n",
        "vif_data[\"VIF\"] = [variance_inflation_factor(X, i) for i in range(X.shape[1])]\n",
        "\n",
        "# VIF 결과 출력\n",
        "print(vif_data) # 모든 독립변수가 5 이하 이므로 다중공선성 문제 없음 -> 선형회귀 모델 사용 가능"
      ],
      "metadata": {
        "colab": {
          "base_uri": "https://localhost:8080/"
        },
        "id": "HjBtcYPT5jg7",
        "outputId": "3af8535f-ca96-46d4-bc45-be0393927225"
      },
      "execution_count": 23,
      "outputs": [
        {
          "output_type": "stream",
          "name": "stdout",
          "text": [
            "              feature       VIF\n",
            "0            datediff  1.382547\n",
            "1   first_order_sales  1.198515\n",
            "2  second_order_sales  1.277806\n"
          ]
        }
      ]
    },
    {
      "cell_type": "code",
      "source": [],
      "metadata": {
        "id": "jGiZoSsASinr"
      },
      "execution_count": 24,
      "outputs": []
    },
    {
      "cell_type": "code",
      "source": [
        "# log로 변환한 데이터들로 다중공선성 확인하기\n",
        "from statsmodels.stats.outliers_influence import variance_inflation_factor\n",
        "from sklearn.preprocessing import StandardScaler\n",
        "\n",
        "# 독립변수 설정\n",
        "X = df[['Log_datediff', 'Log_first_order_sales', 'Log_second_order_sales']]\n",
        "\n",
        "# VIF 데이터프레임 생성\n",
        "vif_data = pd.DataFrame()\n",
        "vif_data[\"feature\"] = X.columns\n",
        "\n",
        "# 각 feature에 대한 VIF 계산\n",
        "vif_data[\"VIF\"] = [variance_inflation_factor(X, i) for i in range(X.shape[1])]\n",
        "\n",
        "# VIF 결과 출력\n",
        "print(vif_data) # 모든 독립변수가 5 이상 이므로 다중공선성 문제 있음 -> 선형회귀 모델 사용하면 안됨"
      ],
      "metadata": {
        "colab": {
          "base_uri": "https://localhost:8080/"
        },
        "id": "Zs5l60JtSjCf",
        "outputId": "7714961e-ae3b-4d98-8dc8-228961c0e9a3"
      },
      "execution_count": 25,
      "outputs": [
        {
          "output_type": "stream",
          "name": "stdout",
          "text": [
            "                  feature       VIF\n",
            "0            Log_datediff  9.369950\n",
            "1   Log_first_order_sales  7.607240\n",
            "2  Log_second_order_sales  7.504114\n"
          ]
        }
      ]
    },
    {
      "cell_type": "code",
      "source": [],
      "metadata": {
        "id": "Sd8v7Mo2SbQa"
      },
      "execution_count": null,
      "outputs": []
    },
    {
      "cell_type": "code",
      "source": [
        "# Standard Scaling한 데이터로 다중공선성 확인하기\n",
        "\n",
        "# 독립변수 설정\n",
        "X = df[['datediff', 'first_order_sales', 'second_order_sales']]\n",
        "\n",
        "# 데이터를 표준화 (StandardScaler) - VIF는 데이터의 스케일에 민감하지 않지만, 일반적으로 스케일을 맞추면 안정적인 계산이 가능\n",
        "scaler = StandardScaler()\n",
        "X_scaled = scaler.fit_transform(X)\n",
        "\n",
        "# VIF 데이터프레임 생성\n",
        "vif_data = pd.DataFrame()\n",
        "vif_data[\"feature\"] = X.columns\n",
        "\n",
        "# 각 feature에 대한 VIF 계산\n",
        "vif_data[\"VIF\"] = [variance_inflation_factor(X_scaled, i) for i in range(X_scaled.shape[1])]\n",
        "\n",
        "# VIF 결과 출력\n",
        "print(vif_data) # 모든 독립변수가 5 이하 이므로 다중공선성 문제 없음 -> 선형회귀 모델 사용해도 됨"
      ],
      "metadata": {
        "colab": {
          "base_uri": "https://localhost:8080/"
        },
        "id": "lE70_VsLG1F9",
        "outputId": "1c475179-8668-4543-b32e-b8d4311779d5"
      },
      "execution_count": 26,
      "outputs": [
        {
          "output_type": "stream",
          "name": "stdout",
          "text": [
            "              feature       VIF\n",
            "0            datediff  1.015437\n",
            "1   first_order_sales  1.003965\n",
            "2  second_order_sales  1.015644\n"
          ]
        }
      ]
    },
    {
      "cell_type": "code",
      "source": [],
      "metadata": {
        "id": "-hUsgQPF8Yql"
      },
      "execution_count": null,
      "outputs": []
    },
    {
      "cell_type": "markdown",
      "source": [
        "# **상관관계 확인**\n",
        "- 모든 값이 0에 가까우므로 상관관계가 높은 변수들 없음\n",
        "- 그나마 second_order_sales와 customer_clv가 아주 약한 상관관계(0.26)를 가질 수도 있을 것이라 판단됨"
      ],
      "metadata": {
        "id": "gM8dNqG9TlXS"
      }
    },
    {
      "cell_type": "code",
      "source": [
        "# 변수들의 상관관계 확인\n",
        "cor_columns = ['customer_clv', 'datediff', 'first_order_sales', 'second_order_sales']\n",
        "cor_data = df[cor_columns]\n",
        "\n",
        "# 상관관계 메트릭스\n",
        "correlation_matrix = cor_data.corr()\n",
        "\n",
        "# 상관관계 메트릭스 시각화\n",
        "plt.figure(figsize=(5, 5))\n",
        "\n",
        "plt.matshow(correlation_matrix, fignum=1)\n",
        "plt.colorbar()\n",
        "plt.xticks(range(len(correlation_matrix.columns)), correlation_matrix.columns, rotation=90)\n",
        "plt.yticks(range(len(correlation_matrix.columns)), correlation_matrix.columns)\n",
        "\n",
        "for (i, j), val in np.ndenumerate(correlation_matrix):\n",
        "    plt.text(j, i, '{:0.2f}'.format(val), ha='center', va='center', color='black')\n",
        "\n",
        "plt.show()"
      ],
      "metadata": {
        "colab": {
          "base_uri": "https://localhost:8080/",
          "height": 531
        },
        "id": "UHV3gwEw9EyY",
        "outputId": "671a641f-54ea-4fb3-a86d-491a257451b7"
      },
      "execution_count": 28,
      "outputs": [
        {
          "output_type": "display_data",
          "data": {
            "text/plain": [
              "<Figure size 500x500 with 2 Axes>"
            ],
            "image/png": "[encoded data removed]"
          },
          "metadata": {}
        }
      ]
    },
    {
      "cell_type": "code",
      "source": [],
      "metadata": {
        "id": "IQBeY1TD3kn5"
      },
      "execution_count": null,
      "outputs": []
    },
    {
      "cell_type": "markdown",
      "source": [
        "# **CLV 값을 예측하는 모델 구축하기**\n"
      ],
      "metadata": {
        "id": "aqajTh2V65Mh"
      }
    },
    {
      "cell_type": "markdown",
      "source": [
        "## **방법 1) customer_clv 값을 예측하는 모델 구축 후, 성능 검토**\n",
        "- <mark>**모든 모델의 R2 값이 절대값 0.2 이하이므로, 모든 모델의 설명력이 낮음. 즉, 각 모델은 데이터의 분포를 잘 설명할 수 없음**</mark>"
      ],
      "metadata": {
        "id": "DPgQAwQghtYL"
      }
    },
    {
      "cell_type": "code",
      "source": [
        "# 필요한 페키지 불러오기\n",
        "from sklearn.model_selection import train_test_split\n",
        "from sklearn.preprocessing import StandardScaler\n",
        "from sklearn.metrics import mean_squared_error, r2_score\n",
        "from sklearn.linear_model import LinearRegression\n",
        "from sklearn.ensemble import RandomForestRegressor, GradientBoostingRegressor\n",
        "import xgboost as xgb"
      ],
      "metadata": {
        "id": "BKfGfZCNHjKl"
      },
      "execution_count": 29,
      "outputs": []
    },
    {
      "cell_type": "code",
      "source": [
        "# 독립변수 설정\n",
        "X = df[['datediff', 'first_order_sales', 'second_order_sales']]\n",
        "# 종속변수 설정\n",
        "y = df['customer_clv']\n",
        "\n",
        "# train, test set 나누기\n",
        "X_train, X_test, y_train, y_test = train_test_split(X, y, test_size=0.2, random_state=42)\n",
        "\n",
        "# 데이터 표준화\n",
        "scaler = StandardScaler()\n",
        "X_train_scaled = scaler.fit_transform(X_train)\n",
        "X_test_scaled = scaler.transform(X_test)"
      ],
      "metadata": {
        "id": "jdripow57Joi"
      },
      "execution_count": 30,
      "outputs": []
    },
    {
      "cell_type": "code",
      "source": [
        "# 결과 저장할 dict 생성\n",
        "results = {}\n",
        "\n",
        "# -------------------- Linear Regression --------------------\n",
        "linear_model = LinearRegression()\n",
        "linear_model.fit(X_train_scaled, y_train)\n",
        "y_pred_linear = linear_model.predict(X_test_scaled)\n",
        "mse_linear = mean_squared_error(y_test, y_pred_linear)\n",
        "r2_linear = r2_score(y_test, y_pred_linear)\n",
        "results['Linear Regression'] = {'MSE': mse_linear, 'R2': r2_linear}\n",
        "\n",
        "# -------------------- Random Forest --------------------\n",
        "rf_model = RandomForestRegressor(n_estimators=100, random_state=42)\n",
        "rf_model.fit(X_train_scaled, y_train)\n",
        "y_pred_rf = rf_model.predict(X_test_scaled)\n",
        "mse_rf = mean_squared_error(y_test, y_pred_rf)\n",
        "r2_rf = r2_score(y_test, y_pred_rf)\n",
        "results['Random Forest'] = {'MSE': mse_rf, 'R2': r2_rf}\n",
        "\n",
        "# -------------------- Gradient Boosting --------------------\n",
        "gb_model = GradientBoostingRegressor(n_estimators=100, random_state=42)\n",
        "gb_model.fit(X_train_scaled, y_train)\n",
        "y_pred_gb = gb_model.predict(X_test_scaled)\n",
        "mse_gb = mean_squared_error(y_test, y_pred_gb)\n",
        "r2_gb = r2_score(y_test, y_pred_gb)\n",
        "results['Gradient Boosting'] = {'MSE': mse_gb, 'R2': r2_gb}\n",
        "\n",
        "# -------------------- XGBoost --------------------\n",
        "#xgb_model = xgb.XGBRegressor(objective='reg:squarederror', n_estimators=100, random_state=42)\n",
        "xgb_model = xgb.XGBRegressor(objective='reg:squarederror', n_estimators=200, learning_rate=0.05, max_depth=5, random_state=42)\n",
        "\n",
        "xgb_model.fit(X_train_scaled, y_train)\n",
        "y_pred_xgb = xgb_model.predict(X_test_scaled)\n",
        "mse_xgb = mean_squared_error(y_test, y_pred_xgb)\n",
        "r2_xgb = r2_score(y_test, y_pred_xgb)\n",
        "results['XGBoost'] = {'MSE': mse_xgb, 'R2': r2_xgb}"
      ],
      "metadata": {
        "id": "zvy6wB8m7QUy"
      },
      "execution_count": 31,
      "outputs": []
    },
    {
      "cell_type": "code",
      "source": [
        "# 모든 모델의 R2 값이 너무 낮으므로 모든 모델의 설명력이 안 좋음 -> 각 모델은 데이터를 잘 설명할 수 없음\n",
        "for model_name, metrics in results.items():\n",
        "    print(f\"{model_name}:\")\n",
        "    print(f\"  MSE: {metrics['MSE']}\")\n",
        "    print(f\"  R-squared: {metrics['R2']}\")\n",
        "    print()"
      ],
      "metadata": {
        "colab": {
          "base_uri": "https://localhost:8080/"
        },
        "id": "aEbLJ6_j7Udi",
        "outputId": "459b62cc-a464-4016-e70c-3d336f1e6ce4"
      },
      "execution_count": 32,
      "outputs": [
        {
          "output_type": "stream",
          "name": "stdout",
          "text": [
            "Linear Regression:\n",
            "  MSE: 1.957303514542591e-06\n",
            "  R-squared: 0.13027459516061368\n",
            "\n",
            "Random Forest:\n",
            "  MSE: 2.238599173076923e-06\n",
            "  R-squared: 0.005281215911761117\n",
            "\n",
            "Gradient Boosting:\n",
            "  MSE: 2.299593136377003e-06\n",
            "  R-squared: -0.021821376522053404\n",
            "\n",
            "XGBoost:\n",
            "  MSE: 2.1417835091782015e-06\n",
            "  R-squared: 0.048301136866017114\n",
            "\n"
          ]
        }
      ]
    },
    {
      "cell_type": "code",
      "source": [],
      "metadata": {
        "id": "qdznThFm7Uni"
      },
      "execution_count": null,
      "outputs": []
    },
    {
      "cell_type": "markdown",
      "source": [
        "## **방법 2) 상위 30%의 customer_clv는 1로, 그 이외의 값은 0을 예측하는 모델 구축 후, 성능 검토**\n",
        "- <mark>**F1-score로 모델의 성능을 판단했을 때, Logistic Regression 모델의 성능이 가장 뛰어남 (Acc : 59.62% / F1-score : 36.36%)**</mark>\n",
        "   - 지도학습 모델\n",
        "    - Logistic Regression Model : Acc : 59.62% / F1-score : 36.36%\n",
        "    - Random Forest Model : Acc : 55.77% / F1-score : 30%\n",
        "    - Gradient Boosting Model : Acc : 61.54% / F1-score : 16.67%\n",
        "   - 비지도학습 모델\n",
        "    - Isolation Forest Model : Acc : 0% / F1-score : 0%\n"
      ],
      "metadata": {
        "id": "toRBhDW99cYa"
      }
    },
    {
      "cell_type": "markdown",
      "source": [
        "### **지도학습 모델 : Logistic Regression, Random Forest, Gradient Boosting**"
      ],
      "metadata": {
        "id": "9-vHddhHXxQ_"
      }
    },
    {
      "cell_type": "code",
      "source": [
        "# 필요한 페키지 불러오기\n",
        "!pip install -U imbalanced-learn\n",
        "\n",
        "from imblearn.over_sampling import SMOTE\n",
        "from sklearn.model_selection import train_test_split, GridSearchCV\n",
        "from sklearn.preprocessing import StandardScaler\n",
        "from sklearn.linear_model import LogisticRegression\n",
        "from sklearn.ensemble import RandomForestClassifier, GradientBoostingClassifier\n",
        "from sklearn.metrics import classification_report, accuracy_score"
      ],
      "metadata": {
        "colab": {
          "base_uri": "https://localhost:8080/"
        },
        "id": "5enWW4TA-hup",
        "outputId": "8bb9ecae-6b2a-40dd-b1c7-1e7286b3cf98"
      },
      "execution_count": 39,
      "outputs": [
        {
          "output_type": "stream",
          "name": "stdout",
          "text": [
            "Requirement already satisfied: imbalanced-learn in /usr/local/lib/python3.10/dist-packages (0.12.4)\n",
            "Requirement already satisfied: numpy>=1.17.3 in /usr/local/lib/python3.10/dist-packages (from imbalanced-learn) (1.26.4)\n",
            "Requirement already satisfied: scipy>=1.5.0 in /usr/local/lib/python3.10/dist-packages (from imbalanced-learn) (1.13.1)\n",
            "Requirement already satisfied: scikit-learn>=1.0.2 in /usr/local/lib/python3.10/dist-packages (from imbalanced-learn) (1.5.2)\n",
            "Requirement already satisfied: joblib>=1.1.1 in /usr/local/lib/python3.10/dist-packages (from imbalanced-learn) (1.4.2)\n",
            "Requirement already satisfied: threadpoolctl>=2.0.0 in /usr/local/lib/python3.10/dist-packages (from imbalanced-learn) (3.5.0)\n"
          ]
        }
      ]
    },
    {
      "cell_type": "code",
      "source": [
        "# clv가 상위 30%인 값 확인하기\n",
        "threshold_30 = df['customer_clv'].quantile(0.70)\n",
        "\n",
        "# clv_class_30 컬럼 만들기: 상위 30%인 clv 값은 1로 변환하고, 그 이외의 값은 0으로 변환하기\n",
        "df['clv_class_30'] = (df['customer_clv'] > threshold_30).astype(int)"
      ],
      "metadata": {
        "id": "0Grok4bB7FPp"
      },
      "execution_count": 40,
      "outputs": []
    },
    {
      "cell_type": "code",
      "source": [
        "# clv가 상위 30%인 값 확인하기\n",
        "threshold_30"
      ],
      "metadata": {
        "colab": {
          "base_uri": "https://localhost:8080/"
        },
        "id": "5DGdd7819tK0",
        "outputId": "b93cb470-94c8-4bdd-c3ba-a05b2e611634"
      },
      "execution_count": 41,
      "outputs": [
        {
          "output_type": "execute_result",
          "data": {
            "text/plain": [
              "0.0008"
            ]
          },
          "metadata": {},
          "execution_count": 41
        }
      ]
    },
    {
      "cell_type": "code",
      "source": [
        "# clv_class_30 컬럼의 구성 살펴보기\n",
        "df['clv_class_30'].value_counts()"
      ],
      "metadata": {
        "colab": {
          "base_uri": "https://localhost:8080/",
          "height": 178
        },
        "id": "pn_74Nn69ptl",
        "outputId": "200ee1bc-7bad-4c6e-ec21-bb6f461dbf89"
      },
      "execution_count": 42,
      "outputs": [
        {
          "output_type": "execute_result",
          "data": {
            "text/plain": [
              "clv_class_30\n",
              "0    184\n",
              "1     73\n",
              "Name: count, dtype: int64"
            ],
            "text/html": [
              "<div>\n",
              "<style scoped>\n",
              "    .dataframe tbody tr th:only-of-type {\n",
              "        vertical-align: middle;\n",
              "    }\n",
              "\n",
              "    .dataframe tbody tr th {\n",
              "        vertical-align: top;\n",
              "    }\n",
              "\n",
              "    .dataframe thead th {\n",
              "        text-align: right;\n",
              "    }\n",
              "</style>\n",
              "<table border=\"1\" class=\"dataframe\">\n",
              "  <thead>\n",
              "    <tr style=\"text-align: right;\">\n",
              "      <th></th>\n",
              "      <th>count</th>\n",
              "    </tr>\n",
              "    <tr>\n",
              "      <th>clv_class_30</th>\n",
              "      <th></th>\n",
              "    </tr>\n",
              "  </thead>\n",
              "  <tbody>\n",
              "    <tr>\n",
              "      <th>0</th>\n",
              "      <td>184</td>\n",
              "    </tr>\n",
              "    <tr>\n",
              "      <th>1</th>\n",
              "      <td>73</td>\n",
              "    </tr>\n",
              "  </tbody>\n",
              "</table>\n",
              "</div><br><label><b>dtype:</b> int64</label>"
            ]
          },
          "metadata": {},
          "execution_count": 42
        }
      ]
    },
    {
      "cell_type": "code",
      "source": [
        "# X값과 y값 설정하기\n",
        "X = df[['Scaled_first_order_sales', 'Scaled_second_order_sales', 'Scaled_datediff']]\n",
        "y = df['clv_class_30']  # 이진분류 값으로 구성된 타겟\n",
        "\n",
        "# train/test set 나누기\n",
        "X_train, X_test, y_train, y_test = train_test_split(X, y, test_size=0.2, random_state=42)"
      ],
      "metadata": {
        "id": "9RnXIhdg-hH-"
      },
      "execution_count": 43,
      "outputs": []
    },
    {
      "cell_type": "code",
      "source": [
        "# y값이 0에 치우쳐있음 -> smote를 활용하여 타겟값이 1인 경우 upsampling\n",
        "smote = SMOTE(random_state=42)\n",
        "X_train_smote, y_train_smote = smote.fit_resample(X_train, y_train)"
      ],
      "metadata": {
        "id": "yxygLgJh_u-o"
      },
      "execution_count": 44,
      "outputs": []
    },
    {
      "cell_type": "code",
      "source": [
        "# Logistic Regression 모델 구축하고, 성능 평가하기\n",
        "logistic_model = LogisticRegression(random_state=42)\n",
        "logistic_model.fit(X_train_smote, y_train_smote)\n",
        "\n",
        "y_pred_logistic = logistic_model.predict(X_test)\n",
        "\n",
        "accuracy_logistic = accuracy_score(y_test, y_pred_logistic)\n",
        "report_logistic = classification_report(y_test, y_pred_logistic)\n",
        "\n",
        "print(f\"Logistic Regression Accuracy: {accuracy_logistic}\")\n",
        "print(\"Logistic Regression Classification Report:\\n\", report_logistic)"
      ],
      "metadata": {
        "colab": {
          "base_uri": "https://localhost:8080/"
        },
        "id": "o-qBGnUf-nh7",
        "outputId": "1f00a436-8d50-4abc-8529-83911ec42527"
      },
      "execution_count": 45,
      "outputs": [
        {
          "output_type": "stream",
          "name": "stdout",
          "text": [
            "Logistic Regression Accuracy: 0.5961538461538461\n",
            "Logistic Regression Classification Report:\n",
            "               precision    recall  f1-score   support\n",
            "\n",
            "           0       0.81      0.62      0.70        40\n",
            "           1       0.29      0.50      0.36        12\n",
            "\n",
            "    accuracy                           0.60        52\n",
            "   macro avg       0.55      0.56      0.53        52\n",
            "weighted avg       0.69      0.60      0.63        52\n",
            "\n"
          ]
        }
      ]
    },
    {
      "cell_type": "code",
      "source": [
        "# Random Forest 모델 구축하고, 성능 평가하기\n",
        "rf_model = RandomForestClassifier(random_state=42)\n",
        "rf_model.fit(X_train_smote, y_train_smote)\n",
        "\n",
        "# Make predictions on the test set\n",
        "y_pred_rf = rf_model.predict(X_test)\n",
        "\n",
        "# Evaluate Random Forest\n",
        "accuracy_rf = accuracy_score(y_test, y_pred_rf)\n",
        "report_rf = classification_report(y_test, y_pred_rf)\n",
        "\n",
        "print(f\"Random Forest Accuracy: {accuracy_rf}\")\n",
        "print(\"Random Forest Classification Report:\\n\", report_rf)\n"
      ],
      "metadata": {
        "colab": {
          "base_uri": "https://localhost:8080/"
        },
        "id": "0y0rgJim_AhQ",
        "outputId": "df54617a-124a-4302-b452-75a1446ee9d2"
      },
      "execution_count": 46,
      "outputs": [
        {
          "output_type": "stream",
          "name": "stdout",
          "text": [
            "Random Forest Accuracy: 0.5576923076923077\n",
            "Random Forest Classification Report:\n",
            "               precision    recall  f1-score   support\n",
            "\n",
            "           0       0.77      0.60      0.68        40\n",
            "           1       0.24      0.42      0.30        12\n",
            "\n",
            "    accuracy                           0.56        52\n",
            "   macro avg       0.51      0.51      0.49        52\n",
            "weighted avg       0.65      0.56      0.59        52\n",
            "\n"
          ]
        }
      ]
    },
    {
      "cell_type": "code",
      "source": [
        "# Gradient Boosting Classifier 모델 구축하고, 성능 평가하기\n",
        "gb_model = GradientBoostingClassifier(random_state=42)\n",
        "gb_model.fit(X_train_smote, y_train_smote)\n",
        "\n",
        "# Make predictions on the test set\n",
        "y_pred_gb = gb_model.predict(X_test)\n",
        "\n",
        "# Evaluate Gradient Boosting\n",
        "accuracy_gb = accuracy_score(y_test, y_pred_gb)\n",
        "report_gb = classification_report(y_test, y_pred_gb)\n",
        "\n",
        "print(f\"Gradient Boosting Accuracy: {accuracy_gb}\")\n",
        "print(\"Gradient Boosting Classification Report:\\n\", report_gb)\n"
      ],
      "metadata": {
        "colab": {
          "base_uri": "https://localhost:8080/"
        },
        "id": "htoYS-6j_FZC",
        "outputId": "581abf96-13cd-4b22-cb65-6a6085c3ec3a"
      },
      "execution_count": 47,
      "outputs": [
        {
          "output_type": "stream",
          "name": "stdout",
          "text": [
            "Gradient Boosting Accuracy: 0.6153846153846154\n",
            "Gradient Boosting Classification Report:\n",
            "               precision    recall  f1-score   support\n",
            "\n",
            "           0       0.75      0.75      0.75        40\n",
            "           1       0.17      0.17      0.17        12\n",
            "\n",
            "    accuracy                           0.62        52\n",
            "   macro avg       0.46      0.46      0.46        52\n",
            "weighted avg       0.62      0.62      0.62        52\n",
            "\n"
          ]
        }
      ]
    },
    {
      "cell_type": "markdown",
      "source": [
        "### **비지도 학습 모델 : Isolation Forest**"
      ],
      "metadata": {
        "id": "2W-w5fTYX1qs"
      }
    },
    {
      "cell_type": "code",
      "source": [
        "# Isolation Forest 모델 구축하고, 성능 평가하기\n",
        "n_estimators = 100\n",
        "max_samples = 'auto'\n",
        "contamination = 'auto'\n",
        "#contamination = num_Fraud/(num_Normal+num_Fraud)\n",
        "\n",
        "# Isolation Forest 생성 및 학습\n",
        "from sklearn.ensemble import IsolationForest\n",
        "\n",
        "seed = 1234\n",
        "\n",
        "IForest = IsolationForest(n_estimators=n_estimators,\n",
        "                          max_samples=max_samples,\n",
        "                          contamination=contamination,\n",
        "                          random_state=seed)\n",
        "IForest.fit(X_train)"
      ],
      "metadata": {
        "colab": {
          "base_uri": "https://localhost:8080/",
          "height": 80
        },
        "id": "bS2QOneKBlzF",
        "outputId": "e1ae24a6-5247-4a26-c4f9-2993815ae9fc"
      },
      "execution_count": 48,
      "outputs": [
        {
          "output_type": "execute_result",
          "data": {
            "text/plain": [
              "IsolationForest(random_state=1234)"
            ],
            "text/html": [
              "<style>#sk-container-id-1 {\n",
              "  /* Definition of color scheme common for light and dark mode */\n",
              "  --sklearn-color-text: black;\n",
              "  --sklearn-color-line: gray;\n",
              "  /* Definition of color scheme for unfitted estimators */\n",
              "  --sklearn-color-unfitted-level-0: #fff5e6;\n",
              "  --sklearn-color-unfitted-level-1: #f6e4d2;\n",
              "  --sklearn-color-unfitted-level-2: #ffe0b3;\n",
              "  --sklearn-color-unfitted-level-3: chocolate;\n",
              "  /* Definition of color scheme for fitted estimators */\n",
              "  --sklearn-color-fitted-level-0: #f0f8ff;\n",
              "  --sklearn-color-fitted-level-1: #d4ebff;\n",
              "  --sklearn-color-fitted-level-2: #b3dbfd;\n",
              "  --sklearn-color-fitted-level-3: cornflowerblue;\n",
              "\n",
              "  /* Specific color for light theme */\n",
              "  --sklearn-color-text-on-default-background: var(--sg-text-color, var(--theme-code-foreground, var(--jp-content-font-color1, black)));\n",
              "  --sklearn-color-background: var(--sg-background-color, var(--theme-background, var(--jp-layout-color0, white)));\n",
              "  --sklearn-color-border-box: var(--sg-text-color, var(--theme-code-foreground, var(--jp-content-font-color1, black)));\n",
              "  --sklearn-color-icon: #696969;\n",
              "\n",
              "  @media (prefers-color-scheme: dark) {\n",
              "    /* Redefinition of color scheme for dark theme */\n",
              "    --sklearn-color-text-on-default-background: var(--sg-text-color, var(--theme-code-foreground, var(--jp-content-font-color1, white)));\n",
              "    --sklearn-color-background: var(--sg-background-color, var(--theme-background, var(--jp-layout-color0, #111)));\n",
              "    --sklearn-color-border-box: var(--sg-text-color, var(--theme-code-foreground, var(--jp-content-font-color1, white)));\n",
              "    --sklearn-color-icon: #878787;\n",
              "  }\n",
              "}\n",
              "\n",
              "#sk-container-id-1 {\n",
              "  color: var(--sklearn-color-text);\n",
              "}\n",
              "\n",
              "#sk-container-id-1 pre {\n",
              "  padding: 0;\n",
              "}\n",
              "\n",
              "#sk-container-id-1 input.sk-hidden--visually {\n",
              "  border: 0;\n",
              "  clip: rect(1px 1px 1px 1px);\n",
              "  clip: rect(1px, 1px, 1px, 1px);\n",
              "  height: 1px;\n",
              "  margin: -1px;\n",
              "  overflow: hidden;\n",
              "  padding: 0;\n",
              "  position: absolute;\n",
              "  width: 1px;\n",
              "}\n",
              "\n",
              "#sk-container-id-1 div.sk-dashed-wrapped {\n",
              "  border: 1px dashed var(--sklearn-color-line);\n",
              "  margin: 0 0.4em 0.5em 0.4em;\n",
              "  box-sizing: border-box;\n",
              "  padding-bottom: 0.4em;\n",
              "  background-color: var(--sklearn-color-background);\n",
              "}\n",
              "\n",
              "#sk-container-id-1 div.sk-container {\n",
              "  /* jupyter's `normalize.less` sets `[hidden] { display: none; }`\n",
              "     but bootstrap.min.css set `[hidden] { display: none !important; }`\n",
              "     so we also need the `!important` here to be able to override the\n",
              "     default hidden behavior on the sphinx rendered scikit-learn.org.\n",
              "     See: https://github.com/scikit-learn/scikit-learn/issues/21755 */\n",
              "  display: inline-block !important;\n",
              "  position: relative;\n",
              "}\n",
              "\n",
              "#sk-container-id-1 div.sk-text-repr-fallback {\n",
              "  display: none;\n",
              "}\n",
              "\n",
              "div.sk-parallel-item,\n",
              "div.sk-serial,\n",
              "div.sk-item {\n",
              "  /* draw centered vertical line to link estimators */\n",
              "  background-image: linear-gradient(var(--sklearn-color-text-on-default-background), var(--sklearn-color-text-on-default-background));\n",
              "  background-size: 2px 100%;\n",
              "  background-repeat: no-repeat;\n",
              "  background-position: center center;\n",
              "}\n",
              "\n",
              "/* Parallel-specific style estimator block */\n",
              "\n",
              "#sk-container-id-1 div.sk-parallel-item::after {\n",
              "  content: \"\";\n",
              "  width: 100%;\n",
              "  border-bottom: 2px solid var(--sklearn-color-text-on-default-background);\n",
              "  flex-grow: 1;\n",
              "}\n",
              "\n",
              "#sk-container-id-1 div.sk-parallel {\n",
              "  display: flex;\n",
              "  align-items: stretch;\n",
              "  justify-content: center;\n",
              "  background-color: var(--sklearn-color-background);\n",
              "  position: relative;\n",
              "}\n",
              "\n",
              "#sk-container-id-1 div.sk-parallel-item {\n",
              "  display: flex;\n",
              "  flex-direction: column;\n",
              "}\n",
              "\n",
              "#sk-container-id-1 div.sk-parallel-item:first-child::after {\n",
              "  align-self: flex-end;\n",
              "  width: 50%;\n",
              "}\n",
              "\n",
              "#sk-container-id-1 div.sk-parallel-item:last-child::after {\n",
              "  align-self: flex-start;\n",
              "  width: 50%;\n",
              "}\n",
              "\n",
              "#sk-container-id-1 div.sk-parallel-item:only-child::after {\n",
              "  width: 0;\n",
              "}\n",
              "\n",
              "/* Serial-specific style estimator block */\n",
              "\n",
              "#sk-container-id-1 div.sk-serial {\n",
              "  display: flex;\n",
              "  flex-direction: column;\n",
              "  align-items: center;\n",
              "  background-color: var(--sklearn-color-background);\n",
              "  padding-right: 1em;\n",
              "  padding-left: 1em;\n",
              "}\n",
              "\n",
              "\n",
              "/* Toggleable style: style used for estimator/Pipeline/ColumnTransformer box that is\n",
              "clickable and can be expanded/collapsed.\n",
              "- Pipeline and ColumnTransformer use this feature and define the default style\n",
              "- Estimators will overwrite some part of the style using the `sk-estimator` class\n",
              "*/\n",
              "\n",
              "/* Pipeline and ColumnTransformer style (default) */\n",
              "\n",
              "#sk-container-id-1 div.sk-toggleable {\n",
              "  /* Default theme specific background. It is overwritten whether we have a\n",
              "  specific estimator or a Pipeline/ColumnTransformer */\n",
              "  background-color: var(--sklearn-color-background);\n",
              "}\n",
              "\n",
              "/* Toggleable label */\n",
              "#sk-container-id-1 label.sk-toggleable__label {\n",
              "  cursor: pointer;\n",
              "  display: block;\n",
              "  width: 100%;\n",
              "  margin-bottom: 0;\n",
              "  padding: 0.5em;\n",
              "  box-sizing: border-box;\n",
              "  text-align: center;\n",
              "}\n",
              "\n",
              "#sk-container-id-1 label.sk-toggleable__label-arrow:before {\n",
              "  /* Arrow on the left of the label */\n",
              "  content: \"▸\";\n",
              "  float: left;\n",
              "  margin-right: 0.25em;\n",
              "  color: var(--sklearn-color-icon);\n",
              "}\n",
              "\n",
              "#sk-container-id-1 label.sk-toggleable__label-arrow:hover:before {\n",
              "  color: var(--sklearn-color-text);\n",
              "}\n",
              "\n",
              "/* Toggleable content - dropdown */\n",
              "\n",
              "#sk-container-id-1 div.sk-toggleable__content {\n",
              "  max-height: 0;\n",
              "  max-width: 0;\n",
              "  overflow: hidden;\n",
              "  text-align: left;\n",
              "  /* unfitted */\n",
              "  background-color: var(--sklearn-color-unfitted-level-0);\n",
              "}\n",
              "\n",
              "#sk-container-id-1 div.sk-toggleable__content.fitted {\n",
              "  /* fitted */\n",
              "  background-color: var(--sklearn-color-fitted-level-0);\n",
              "}\n",
              "\n",
              "#sk-container-id-1 div.sk-toggleable__content pre {\n",
              "  margin: 0.2em;\n",
              "  border-radius: 0.25em;\n",
              "  color: var(--sklearn-color-text);\n",
              "  /* unfitted */\n",
              "  background-color: var(--sklearn-color-unfitted-level-0);\n",
              "}\n",
              "\n",
              "#sk-container-id-1 div.sk-toggleable__content.fitted pre {\n",
              "  /* unfitted */\n",
              "  background-color: var(--sklearn-color-fitted-level-0);\n",
              "}\n",
              "\n",
              "#sk-container-id-1 input.sk-toggleable__control:checked~div.sk-toggleable__content {\n",
              "  /* Expand drop-down */\n",
              "  max-height: 200px;\n",
              "  max-width: 100%;\n",
              "  overflow: auto;\n",
              "}\n",
              "\n",
              "#sk-container-id-1 input.sk-toggleable__control:checked~label.sk-toggleable__label-arrow:before {\n",
              "  content: \"▾\";\n",
              "}\n",
              "\n",
              "/* Pipeline/ColumnTransformer-specific style */\n",
              "\n",
              "#sk-container-id-1 div.sk-label input.sk-toggleable__control:checked~label.sk-toggleable__label {\n",
              "  color: var(--sklearn-color-text);\n",
              "  background-color: var(--sklearn-color-unfitted-level-2);\n",
              "}\n",
              "\n",
              "#sk-container-id-1 div.sk-label.fitted input.sk-toggleable__control:checked~label.sk-toggleable__label {\n",
              "  background-color: var(--sklearn-color-fitted-level-2);\n",
              "}\n",
              "\n",
              "/* Estimator-specific style */\n",
              "\n",
              "/* Colorize estimator box */\n",
              "#sk-container-id-1 div.sk-estimator input.sk-toggleable__control:checked~label.sk-toggleable__label {\n",
              "  /* unfitted */\n",
              "  background-color: var(--sklearn-color-unfitted-level-2);\n",
              "}\n",
              "\n",
              "#sk-container-id-1 div.sk-estimator.fitted input.sk-toggleable__control:checked~label.sk-toggleable__label {\n",
              "  /* fitted */\n",
              "  background-color: var(--sklearn-color-fitted-level-2);\n",
              "}\n",
              "\n",
              "#sk-container-id-1 div.sk-label label.sk-toggleable__label,\n",
              "#sk-container-id-1 div.sk-label label {\n",
              "  /* The background is the default theme color */\n",
              "  color: var(--sklearn-color-text-on-default-background);\n",
              "}\n",
              "\n",
              "/* On hover, darken the color of the background */\n",
              "#sk-container-id-1 div.sk-label:hover label.sk-toggleable__label {\n",
              "  color: var(--sklearn-color-text);\n",
              "  background-color: var(--sklearn-color-unfitted-level-2);\n",
              "}\n",
              "\n",
              "/* Label box, darken color on hover, fitted */\n",
              "#sk-container-id-1 div.sk-label.fitted:hover label.sk-toggleable__label.fitted {\n",
              "  color: var(--sklearn-color-text);\n",
              "  background-color: var(--sklearn-color-fitted-level-2);\n",
              "}\n",
              "\n",
              "/* Estimator label */\n",
              "\n",
              "#sk-container-id-1 div.sk-label label {\n",
              "  font-family: monospace;\n",
              "  font-weight: bold;\n",
              "  display: inline-block;\n",
              "  line-height: 1.2em;\n",
              "}\n",
              "\n",
              "#sk-container-id-1 div.sk-label-container {\n",
              "  text-align: center;\n",
              "}\n",
              "\n",
              "/* Estimator-specific */\n",
              "#sk-container-id-1 div.sk-estimator {\n",
              "  font-family: monospace;\n",
              "  border: 1px dotted var(--sklearn-color-border-box);\n",
              "  border-radius: 0.25em;\n",
              "  box-sizing: border-box;\n",
              "  margin-bottom: 0.5em;\n",
              "  /* unfitted */\n",
              "  background-color: var(--sklearn-color-unfitted-level-0);\n",
              "}\n",
              "\n",
              "#sk-container-id-1 div.sk-estimator.fitted {\n",
              "  /* fitted */\n",
              "  background-color: var(--sklearn-color-fitted-level-0);\n",
              "}\n",
              "\n",
              "/* on hover */\n",
              "#sk-container-id-1 div.sk-estimator:hover {\n",
              "  /* unfitted */\n",
              "  background-color: var(--sklearn-color-unfitted-level-2);\n",
              "}\n",
              "\n",
              "#sk-container-id-1 div.sk-estimator.fitted:hover {\n",
              "  /* fitted */\n",
              "  background-color: var(--sklearn-color-fitted-level-2);\n",
              "}\n",
              "\n",
              "/* Specification for estimator info (e.g. \"i\" and \"?\") */\n",
              "\n",
              "/* Common style for \"i\" and \"?\" */\n",
              "\n",
              ".sk-estimator-doc-link,\n",
              "a:link.sk-estimator-doc-link,\n",
              "a:visited.sk-estimator-doc-link {\n",
              "  float: right;\n",
              "  font-size: smaller;\n",
              "  line-height: 1em;\n",
              "  font-family: monospace;\n",
              "  background-color: var(--sklearn-color-background);\n",
              "  border-radius: 1em;\n",
              "  height: 1em;\n",
              "  width: 1em;\n",
              "  text-decoration: none !important;\n",
              "  margin-left: 1ex;\n",
              "  /* unfitted */\n",
              "  border: var(--sklearn-color-unfitted-level-1) 1pt solid;\n",
              "  color: var(--sklearn-color-unfitted-level-1);\n",
              "}\n",
              "\n",
              ".sk-estimator-doc-link.fitted,\n",
              "a:link.sk-estimator-doc-link.fitted,\n",
              "a:visited.sk-estimator-doc-link.fitted {\n",
              "  /* fitted */\n",
              "  border: var(--sklearn-color-fitted-level-1) 1pt solid;\n",
              "  color: var(--sklearn-color-fitted-level-1);\n",
              "}\n",
              "\n",
              "/* On hover */\n",
              "div.sk-estimator:hover .sk-estimator-doc-link:hover,\n",
              ".sk-estimator-doc-link:hover,\n",
              "div.sk-label-container:hover .sk-estimator-doc-link:hover,\n",
              ".sk-estimator-doc-link:hover {\n",
              "  /* unfitted */\n",
              "  background-color: var(--sklearn-color-unfitted-level-3);\n",
              "  color: var(--sklearn-color-background);\n",
              "  text-decoration: none;\n",
              "}\n",
              "\n",
              "div.sk-estimator.fitted:hover .sk-estimator-doc-link.fitted:hover,\n",
              ".sk-estimator-doc-link.fitted:hover,\n",
              "div.sk-label-container:hover .sk-estimator-doc-link.fitted:hover,\n",
              ".sk-estimator-doc-link.fitted:hover {\n",
              "  /* fitted */\n",
              "  background-color: var(--sklearn-color-fitted-level-3);\n",
              "  color: var(--sklearn-color-background);\n",
              "  text-decoration: none;\n",
              "}\n",
              "\n",
              "/* Span, style for the box shown on hovering the info icon */\n",
              ".sk-estimator-doc-link span {\n",
              "  display: none;\n",
              "  z-index: 9999;\n",
              "  position: relative;\n",
              "  font-weight: normal;\n",
              "  right: .2ex;\n",
              "  padding: .5ex;\n",
              "  margin: .5ex;\n",
              "  width: min-content;\n",
              "  min-width: 20ex;\n",
              "  max-width: 50ex;\n",
              "  color: var(--sklearn-color-text);\n",
              "  box-shadow: 2pt 2pt 4pt #999;\n",
              "  /* unfitted */\n",
              "  background: var(--sklearn-color-unfitted-level-0);\n",
              "  border: .5pt solid var(--sklearn-color-unfitted-level-3);\n",
              "}\n",
              "\n",
              ".sk-estimator-doc-link.fitted span {\n",
              "  /* fitted */\n",
              "  background: var(--sklearn-color-fitted-level-0);\n",
              "  border: var(--sklearn-color-fitted-level-3);\n",
              "}\n",
              "\n",
              ".sk-estimator-doc-link:hover span {\n",
              "  display: block;\n",
              "}\n",
              "\n",
              "/* \"?\"-specific style due to the `<a>` HTML tag */\n",
              "\n",
              "#sk-container-id-1 a.estimator_doc_link {\n",
              "  float: right;\n",
              "  font-size: 1rem;\n",
              "  line-height: 1em;\n",
              "  font-family: monospace;\n",
              "  background-color: var(--sklearn-color-background);\n",
              "  border-radius: 1rem;\n",
              "  height: 1rem;\n",
              "  width: 1rem;\n",
              "  text-decoration: none;\n",
              "  /* unfitted */\n",
              "  color: var(--sklearn-color-unfitted-level-1);\n",
              "  border: var(--sklearn-color-unfitted-level-1) 1pt solid;\n",
              "}\n",
              "\n",
              "#sk-container-id-1 a.estimator_doc_link.fitted {\n",
              "  /* fitted */\n",
              "  border: var(--sklearn-color-fitted-level-1) 1pt solid;\n",
              "  color: var(--sklearn-color-fitted-level-1);\n",
              "}\n",
              "\n",
              "/* On hover */\n",
              "#sk-container-id-1 a.estimator_doc_link:hover {\n",
              "  /* unfitted */\n",
              "  background-color: var(--sklearn-color-unfitted-level-3);\n",
              "  color: var(--sklearn-color-background);\n",
              "  text-decoration: none;\n",
              "}\n",
              "\n",
              "#sk-container-id-1 a.estimator_doc_link.fitted:hover {\n",
              "  /* fitted */\n",
              "  background-color: var(--sklearn-color-fitted-level-3);\n",
              "}\n",
              "</style><div id=\"sk-container-id-1\" class=\"sk-top-container\"><div class=\"sk-text-repr-fallback\"><pre>IsolationForest(random_state=1234)</pre><b>In a Jupyter environment, please rerun this cell to show the HTML representation or trust the notebook. <br />On GitHub, the HTML representation is unable to render, please try loading this page with nbviewer.org.</b></div><div class=\"sk-container\" hidden><div class=\"sk-item\"><div class=\"sk-estimator fitted sk-toggleable\"><input class=\"sk-toggleable__control sk-hidden--visually\" id=\"sk-estimator-id-1\" type=\"checkbox\" checked><label for=\"sk-estimator-id-1\" class=\"sk-toggleable__label fitted sk-toggleable__label-arrow fitted\">&nbsp;&nbsp;IsolationForest<a class=\"sk-estimator-doc-link fitted\" rel=\"noreferrer\" target=\"_blank\" href=\"https://scikit-learn.org/1.5/modules/generated/sklearn.ensemble.IsolationForest.html\">?<span>Documentation for IsolationForest</span></a><span class=\"sk-estimator-doc-link fitted\">i<span>Fitted</span></span></label><div class=\"sk-toggleable__content fitted\"><pre>IsolationForest(random_state=1234)</pre></div> </div></div></div></div>"
            ]
          },
          "metadata": {},
          "execution_count": 48
        }
      ]
    },
    {
      "cell_type": "code",
      "source": [
        "y_pred_iforest = IForest.predict(X_test)\n",
        "y_pred_iforest = np.where(y_test == 1, 0, 1)"
      ],
      "metadata": {
        "id": "MCaOn-1oB0_P"
      },
      "execution_count": 50,
      "outputs": []
    },
    {
      "cell_type": "code",
      "source": [
        "# 성능 평가\n",
        "from sklearn.metrics import accuracy_score, precision_score, recall_score, f1_score\n",
        "\n",
        "accuracy = accuracy_score(y_test, y_pred_iforest)\n",
        "precision = precision_score(y_test, y_pred_iforest)\n",
        "recall = recall_score(y_test, y_pred_iforest)\n",
        "f1 = f1_score(y_test, y_pred_iforest)\n",
        "\n",
        "print(f'정확도 Accuracy : {accuracy*100:.2f} %')\n",
        "print(f'정밀도 Precision : {precision*100:.2f} %')\n",
        "print(f'재현율 Recall : {recall*100:.2f} %')\n",
        "print(f'F1 : {f1*100:.2f} %')"
      ],
      "metadata": {
        "colab": {
          "base_uri": "https://localhost:8080/"
        },
        "id": "Y2nf5cC4CRkF",
        "outputId": "a9eae748-48e7-44c3-e990-dd7a0ddbf950"
      },
      "execution_count": 51,
      "outputs": [
        {
          "output_type": "stream",
          "name": "stdout",
          "text": [
            "정확도 Accuracy : 0.00 %\n",
            "정밀도 Precision : 0.00 %\n",
            "재현율 Recall : 0.00 %\n",
            "F1 : 0.00 %\n"
          ]
        }
      ]
    },
    {
      "cell_type": "markdown",
      "source": [
        "### **지도학습 모델과 비지도학습 모델 성능 비교하기**"
      ],
      "metadata": {
        "id": "0AnJDfbjX41F"
      }
    },
    {
      "cell_type": "code",
      "source": [
        "models = [y_pred_logistic, y_pred_rf, y_pred_gb, y_pred_iforest]\n",
        "models_name = ['Supervised Model - Logistic Regression Model',\n",
        "               'Supervised Model - Random Forest Model',\n",
        "               'Supervised Model - Gradient Boosting Model',\n",
        "               'Unsupervised Model - Isolation Forest Model']\n",
        "\n",
        "for s in range(len(models)):\n",
        "  accuracy = accuracy_score(y_test, models[s])\n",
        "  precision = precision_score(y_test, models[s])\n",
        "  recall = recall_score(y_test, models[s])\n",
        "  f1 = f1_score(y_test, models[s])\n",
        "\n",
        "  print(models_name[s])\n",
        "  print(\"\\n\")\n",
        "  print(f'정확도 Accuracy : {accuracy*100:.2f} %')\n",
        "  print(f'정밀도 Precision : {precision*100:.2f} %')\n",
        "  print(f'재현율 Recall : {recall*100:.2f} %')\n",
        "  print(f'F1 : {f1*100:.2f} %')\n",
        "  print(\"\\n\")"
      ],
      "metadata": {
        "colab": {
          "base_uri": "https://localhost:8080/"
        },
        "id": "edgrvF_JCiEP",
        "outputId": "9bc0dd3a-566a-4e97-adf0-06322e9cbfe0"
      },
      "execution_count": 55,
      "outputs": [
        {
          "output_type": "stream",
          "name": "stdout",
          "text": [
            "Supervised Model - Logistic Regression Model\n",
            "\n",
            "\n",
            "정확도 Accuracy : 59.62 %\n",
            "정밀도 Precision : 28.57 %\n",
            "재현율 Recall : 50.00 %\n",
            "F1 : 36.36 %\n",
            "\n",
            "\n",
            "Supervised Model - Random Forest Model\n",
            "\n",
            "\n",
            "정확도 Accuracy : 55.77 %\n",
            "정밀도 Precision : 23.81 %\n",
            "재현율 Recall : 41.67 %\n",
            "F1 : 30.30 %\n",
            "\n",
            "\n",
            "Supervised Model - Gradient Boosting Model\n",
            "\n",
            "\n",
            "정확도 Accuracy : 61.54 %\n",
            "정밀도 Precision : 16.67 %\n",
            "재현율 Recall : 16.67 %\n",
            "F1 : 16.67 %\n",
            "\n",
            "\n",
            "Unsupervised Model - Isolation Forest Model\n",
            "\n",
            "\n",
            "정확도 Accuracy : 0.00 %\n",
            "정밀도 Precision : 0.00 %\n",
            "재현율 Recall : 0.00 %\n",
            "F1 : 0.00 %\n",
            "\n",
            "\n"
          ]
        }
      ]
    },
    {
      "cell_type": "markdown",
      "source": [
        "### **분류모델 성능평가 - Confusion Matrix**"
      ],
      "metadata": {
        "id": "nv51KWQ6YbEh"
      }
    },
    {
      "cell_type": "code",
      "source": [
        "# Confusion matrices 생성\n",
        "conf_matrix_log = confusion_matrix(y_test, y_pred_logistic)\n",
        "conf_matrix_rf = confusion_matrix(y_test, y_pred_rf)\n",
        "conf_matrix_gb = confusion_matrix(y_test, y_pred_gb)\n",
        "conf_matrix_if = confusion_matrix(y_test, y_pred_iforest)\n",
        "\n",
        "# 1 X 4 subplot 만들기\n",
        "fig, axes = plt.subplots(1, 4, figsize=(18, 6))\n",
        "\n",
        "# Logistic Regression Model - Confusion Matrix\n",
        "im1 = axes[0].imshow(conf_matrix_log, cmap=plt.cm.Blues)\n",
        "axes[0].set_title('Logistic Regression')\n",
        "axes[0].set_xlabel('Predicted label', size=15, labelpad=10)\n",
        "axes[0].set_ylabel('True label', size=15, labelpad=10)\n",
        "axes[0].set_xticks(range(2))\n",
        "axes[0].set_yticks(range(2))\n",
        "axes[0].set_xticklabels([0, 1])\n",
        "axes[0].set_yticklabels([0, 1])\n",
        "\n",
        "\n",
        "# Random Forest Model - Confusion Matrix\n",
        "im2 = axes[1].imshow(conf_matrix_rf, cmap=plt.cm.Blues)\n",
        "axes[1].set_title('Random Forest')\n",
        "axes[1].set_xlabel('Predicted label', size=15, labelpad=10)\n",
        "axes[1].set_ylabel('True label', size=15, labelpad=10)\n",
        "axes[1].set_xticks(range(2))\n",
        "axes[1].set_yticks(range(2))\n",
        "axes[1].set_xticklabels([0, 1])\n",
        "axes[1].set_yticklabels([0, 1])\n",
        "\n",
        "# Gradient Boosting Model - Confusion Matrix\n",
        "im3 = axes[2].imshow(conf_matrix_gb, cmap=plt.cm.Blues)\n",
        "axes[2].set_title('Gradient Boosting')\n",
        "axes[2].set_xlabel('Predicted label', size=15, labelpad=10)\n",
        "axes[2].set_ylabel('True label', size=15, labelpad=10)\n",
        "axes[2].set_xticks(range(2))\n",
        "axes[2].set_yticks(range(2))\n",
        "axes[2].set_xticklabels([0, 1])\n",
        "axes[2].set_yticklabels([0, 1])\n",
        "\n",
        "# Isolation Forest Model - Confusion Matrix\n",
        "im4 = axes[3].imshow(conf_matrix_if, cmap=plt.cm.Blues)\n",
        "axes[3].set_title('Isolation Forest')\n",
        "axes[3].set_xlabel('Predicted label', size=15, labelpad=10)\n",
        "axes[3].set_ylabel('True label', size=15, labelpad=10)\n",
        "axes[3].set_xticks(range(2))\n",
        "axes[3].set_yticks(range(2))\n",
        "axes[3].set_xticklabels([0, 1])\n",
        "axes[3].set_yticklabels([0, 1])\n",
        "\n",
        "# 각 셀에 값을 텍스트로 추가\n",
        "for ax, cm in zip(axes, [conf_matrix_log, conf_matrix_rf, conf_matrix_gb, conf_matrix_if]):\n",
        "    for (i, j), val in np.ndenumerate(cm):\n",
        "        ax.text(j, i, f'{val}', ha='center', va='center', color='white' if val > cm.max() / 2 else 'black', size=15, weight='bold')\n",
        "\n",
        "# 하나의 colorbar를 subplot 전체에 추가하고 오른쪽에 배치\n",
        "fig.subplots_adjust(right=0.85, wspace=0.4)  # wspace를 추가하여 subplot 간 간격을 조정\n",
        "cbar_ax = fig.add_axes([0.87, 0.3, 0.02, 0.4]) # colorbar 위치와 크기 조정 (왼쪽, 아래, 넓이, 높이)\n",
        "fig.colorbar(im1, cax=cbar_ax)\n",
        "\n",
        "\n",
        "# Layout 설정\n",
        "#plt.tight_layout(rect=[0, 0, 0.85, 1])  # right를 0.85로 설정해 색상표 공간 확보\n",
        "plt.show()"
      ],
      "metadata": {
        "colab": {
          "base_uri": "https://localhost:8080/",
          "height": 367
        },
        "id": "FHweq2_NeDBE",
        "outputId": "e4b929bc-1c3e-4d0f-f13f-86770273fdd5"
      },
      "execution_count": 126,
      "outputs": [
        {
          "output_type": "display_data",
          "data": {
            "text/plain": [
              "<Figure size 1800x600 with 5 Axes>"
            ],
            "image/png": "[encoded data removed]"
          },
          "metadata": {}
        }
      ]
    },
    {
      "cell_type": "markdown",
      "source": [
        "### **최적화 분류모델 찾기**\n",
        "- <mark>**최적의 파라미터를 찾았을 때도 Random Forest Classifier Model의 성능이 가장 뛰어났음 (Acc : 91.8% / F1-score : 86%)**<mark>\n",
        "   - Logistic Regression - Acc: 62.7% / F1-score : 44.8%\n",
        "   - Random Forest Classifier - Acc : 91.8% / F1-score : 86%\n",
        "   - Gradient Boosting Classifier - Acc : 87.6% / F1-score : 80%\n"
      ],
      "metadata": {
        "id": "O-OAxOYEZzcE"
      }
    },
    {
      "cell_type": "code",
      "source": [
        "from imblearn.pipeline import Pipeline  # Imbalanced-learn의 Pipeline 사용\n",
        "from imblearn.combine import SMOTETomek\n",
        "from sklearn.model_selection import GridSearchCV, StratifiedKFold\n",
        "from sklearn.ensemble import RandomForestClassifier, GradientBoostingClassifier\n",
        "from sklearn.linear_model import LogisticRegression\n",
        "from sklearn.metrics import accuracy_score, precision_score, recall_score, f1_score\n",
        "\n",
        "# StratifiedKFold 설정\n",
        "skf = StratifiedKFold(n_splits=5, shuffle=True, random_state=42)\n",
        "\n",
        "# 각 모델에 대한 파라미터 그리드 설정\n",
        "param_grid = [\n",
        "    {\n",
        "        'model': [LogisticRegression(random_state=42, class_weight='balanced')],\n",
        "        'model__C': [0.01, 0.1, 1, 10],  # Logistic Regression에만 적용될 파라미터\n",
        "    },\n",
        "    {\n",
        "        'model': [RandomForestClassifier(random_state=42)],\n",
        "        'model__n_estimators': [100, 200],  # RandomForest에만 적용될 파라미터\n",
        "        'model__max_depth': [5, 10]\n",
        "    },\n",
        "    {\n",
        "        'model': [GradientBoostingClassifier(random_state=42)],\n",
        "        'model__n_estimators': [100, 200],  # GradientBoosting에만 적용될 파라미터\n",
        "        'model__learning_rate': [0.01, 0.1]\n",
        "    }\n",
        "]\n",
        "\n",
        "# Pipeline 생성: SMOTETomek + 모델 (Imbalanced-learn의 Pipeline 사용)\n",
        "pipeline = Pipeline([\n",
        "    ('smote_tomek', SMOTETomek(random_state=42)),\n",
        "    ('model', LogisticRegression(random_state=42, class_weight='balanced'))  # 기본 모델을 LogisticRegression으로 설정\n",
        "])\n",
        "\n",
        "# GridSearchCV 실행\n",
        "grid_search = GridSearchCV(pipeline, param_grid, cv=skf, scoring='f1', n_jobs=-1)\n",
        "\n",
        "# Features (X) and target (y)\n",
        "X = df[['Scaled_first_order_sales', 'Scaled_second_order_sales', 'Scaled_datediff']]\n",
        "y = df['clv_class_30']  # Binary classification target\n",
        "\n",
        "# 모델 학습 및 검증\n",
        "grid_search.fit(X, y)\n",
        "\n",
        "# 각 모델에서 가장 성능이 좋았던 결과를 저장할 리스트\n",
        "best_logistic = None\n",
        "best_rf = None\n",
        "best_gb = None\n",
        "\n",
        "# 각 모델의 성능과 최적 하이퍼파라미터 출력 및 성능 지표 계산\n",
        "for i in range(len(grid_search.cv_results_['params'])):\n",
        "    params = grid_search.cv_results_['params'][i]\n",
        "    mean_f1 = grid_search.cv_results_['mean_test_score'][i]\n",
        "\n",
        "    # 모델별로 최적의 결과를 저장\n",
        "    if isinstance(params['model'], LogisticRegression):\n",
        "        if best_logistic is None or mean_f1 > best_logistic['mean_f1']:\n",
        "            best_logistic = {\n",
        "                'model': params['model'],\n",
        "                'params': params,\n",
        "                'mean_f1': mean_f1,\n",
        "                'std_f1': grid_search.cv_results_['std_test_score'][i]\n",
        "            }\n",
        "    elif isinstance(params['model'], RandomForestClassifier):\n",
        "        if best_rf is None or mean_f1 > best_rf['mean_f1']:\n",
        "            best_rf = {\n",
        "                'model': params['model'],\n",
        "                'params': params,\n",
        "                'mean_f1': mean_f1,\n",
        "                'std_f1': grid_search.cv_results_['std_test_score'][i]\n",
        "            }\n",
        "    elif isinstance(params['model'], GradientBoostingClassifier):\n",
        "        if best_gb is None or mean_f1 > best_gb['mean_f1']:\n",
        "            best_gb = {\n",
        "                'model': params['model'],\n",
        "                'params': params,\n",
        "                'mean_f1': mean_f1,\n",
        "                'std_f1': grid_search.cv_results_['std_test_score'][i]\n",
        "            }\n",
        "\n",
        "# 각 모델별로 최적 모델로 성능 지표 계산\n",
        "for best_model_info in [best_logistic, best_rf, best_gb]:\n",
        "    model_pipeline = Pipeline([\n",
        "        ('smote_tomek', SMOTETomek(random_state=42)),\n",
        "        ('model', best_model_info['model'])\n",
        "    ])\n",
        "    model_pipeline.fit(X, y)\n",
        "    y_pred = model_pipeline.predict(X)\n",
        "\n",
        "    # 성능 지표 계산\n",
        "    accuracy = accuracy_score(y, y_pred)\n",
        "    precision = precision_score(y, y_pred)\n",
        "    recall = recall_score(y, y_pred)\n",
        "    f1 = f1_score(y, y_pred)\n",
        "\n",
        "    print(f\"{best_model_info['model'].__class__.__name__} 최적 모델:\")\n",
        "    print(f\"최적 파라미터: {best_model_info['params']}\")\n",
        "    print(f\"평균 F1 Score (Cross-validation): {best_model_info['mean_f1']:.4f} ± {best_model_info['std_f1']:.4f}\")\n",
        "    print(f'정확도 Accuracy: {accuracy:.4f}')\n",
        "    print(f'정밀도 Precision: {precision:.4f}')\n",
        "    print(f'재현율 Recall: {recall:.4f}')\n",
        "    print(f'F1 Score: {f1:.4f}')\n",
        "    print(\"-\" * 50)\n",
        "\n",
        "# 세 모델 중 성능이 가장 좋은 모델 선택 (실제 성능 지표인 F1 Score를 기준으로)\n",
        "best_overall_model = max([best_logistic, best_rf, best_gb], key=lambda x: f1_score(y, Pipeline([\n",
        "    ('smote_tomek', SMOTETomek(random_state=42)),\n",
        "    ('model', x['model'])\n",
        "]).fit(X, y).predict(X)))\n",
        "\n",
        "# 최종 최적 모델 성능 출력\n",
        "print(\"가장 성능이 좋은 모델:\")\n",
        "model_pipeline = Pipeline([\n",
        "    ('smote_tomek', SMOTETomek(random_state=42)),\n",
        "    ('model', best_overall_model['model'])\n",
        "])\n",
        "model_pipeline.fit(X, y)\n",
        "y_pred = model_pipeline.predict(X)\n",
        "\n",
        "# 최종 성능 지표 계산\n",
        "accuracy = accuracy_score(y, y_pred)\n",
        "precision = precision_score(y, y_pred)\n",
        "recall = recall_score(y, y_pred)\n",
        "f1 = f1_score(y, y_pred)\n",
        "\n",
        "print(f\"모델: {best_overall_model['model'].__class__.__name__}\")\n",
        "print(f\"최적 파라미터: {best_overall_model['params']}\")\n",
        "print(f\"정확도 Accuracy: {accuracy:.4f}\")\n",
        "print(f\"정밀도 Precision: {precision:.4f}\")\n",
        "print(f\"재현율 Recall: {recall:.4f}\")\n",
        "print(f\"F1 Score: {f1:.4f}\")"
      ],
      "metadata": {
        "colab": {
          "base_uri": "https://localhost:8080/"
        },
        "id": "abMThf2iozmR",
        "outputId": "662d66f6-fe0d-4bdd-ff16-39d44e907f70"
      },
      "execution_count": 133,
      "outputs": [
        {
          "output_type": "stream",
          "name": "stdout",
          "text": [
            "LogisticRegression 최적 모델:\n",
            "최적 파라미터: {'model': LogisticRegression(class_weight='balanced', random_state=42), 'model__C': 1}\n",
            "평균 F1 Score (Cross-validation): 0.4031 ± 0.1359\n",
            "정확도 Accuracy: 0.6265\n",
            "정밀도 Precision: 0.3861\n",
            "재현율 Recall: 0.5342\n",
            "F1 Score: 0.4483\n",
            "--------------------------------------------------\n",
            "RandomForestClassifier 최적 모델:\n",
            "최적 파라미터: {'model': RandomForestClassifier(random_state=42), 'model__max_depth': 5, 'model__n_estimators': 200}\n",
            "평균 F1 Score (Cross-validation): 0.3625 ± 0.1717\n",
            "정확도 Accuracy: 0.9183\n",
            "정밀도 Precision: 0.8333\n",
            "재현율 Recall: 0.8904\n",
            "F1 Score: 0.8609\n",
            "--------------------------------------------------\n",
            "GradientBoostingClassifier 최적 모델:\n",
            "최적 파라미터: {'model': GradientBoostingClassifier(random_state=42), 'model__learning_rate': 0.01, 'model__n_estimators': 100}\n",
            "평균 F1 Score (Cross-validation): 0.4013 ± 0.0859\n",
            "정확도 Accuracy: 0.8755\n",
            "정밀도 Precision: 0.7356\n",
            "재현율 Recall: 0.8767\n",
            "F1 Score: 0.8000\n",
            "--------------------------------------------------\n",
            "가장 성능이 좋은 모델:\n",
            "모델: RandomForestClassifier\n",
            "최적 파라미터: {'model': RandomForestClassifier(random_state=42), 'model__max_depth': 5, 'model__n_estimators': 200}\n",
            "정확도 Accuracy: 0.9183\n",
            "정밀도 Precision: 0.8333\n",
            "재현율 Recall: 0.8904\n",
            "F1 Score: 0.8609\n"
          ]
        }
      ]
    },
    {
      "cell_type": "code",
      "source": [
        "from matplotlib import pyplot as plt\n",
        "from sklearn.metrics import confusion_matrix\n",
        "import numpy as np\n",
        "\n",
        "result_cm = confusion_matrix(y, y_pred)\n",
        "\n",
        "plt.figure(figsize=(6, 6))\n",
        "\n",
        "plt.matshow(result_cm, fignum=1, cmap=plt.cm.Blues)\n",
        "plt.xticks(range(2), [0, 1], size=15)\n",
        "plt.yticks(range(2), [0, 1], size=15)\n",
        "plt.ylabel('True label', size=20, labelpad=10)\n",
        "plt.xlabel('Predicted label', size=20, labelpad=10)\n",
        "\n",
        "# shrink 값을 조정하여 colorbar 크기 줄임\n",
        "plt.colorbar(shrink=0.8)\n",
        "\n",
        "# 각 셀에 텍스트 추가 (값에 따라 색 변경)\n",
        "for (i, j), val in np.ndenumerate(result_cm):\n",
        "    color = 'white' if val > 80 else 'black'\n",
        "    plt.text(j, i, f'{val}', ha='center', va='center', color=color, size=15, weight='bold')\n",
        "\n",
        "plt.show()\n",
        "\n"
      ],
      "metadata": {
        "colab": {
          "base_uri": "https://localhost:8080/",
          "height": 485
        },
        "id": "6VcZQP5npRXj",
        "outputId": "b961c51f-8ebc-4fcf-bb46-a15b54870bce"
      },
      "execution_count": 134,
      "outputs": [
        {
          "output_type": "display_data",
          "data": {
            "text/plain": [
              "<Figure size 600x600 with 2 Axes>"
            ],
            "image/png": "[encoded data removed]"
          },
          "metadata": {}
        }
      ]
    },
    {
      "cell_type": "code",
      "source": [],
      "metadata": {
        "id": "aDezdgfmp66x"
      },
      "execution_count": null,
      "outputs": []
    }
  ]
}